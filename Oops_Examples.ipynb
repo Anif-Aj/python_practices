{
 "cells": [
  {
   "cell_type": "markdown",
   "metadata": {},
   "source": [
    "1. Create a class called Rectangle with attributes length and width. Implement methods to calculate the area and perimeter of the rectangle.\n"
   ]
  },
  {
   "cell_type": "code",
   "execution_count": 10,
   "metadata": {},
   "outputs": [
    {
     "name": "stdout",
     "output_type": "stream",
     "text": [
      "the Area of the rectangle is 100\n",
      "the perimeter of the rectangle 30\n"
     ]
    }
   ],
   "source": [
    "length = int(input(\"enter the length of the rectangle\"))\n",
    "width = int(input(\"enter the width of the rectangle\"))\n",
    "\n",
    "class Rectangle:\n",
    "    def __init__(self,length,width):\n",
    "        self.length = length\n",
    "        self.width = width\n",
    "    \n",
    "    def area_rect(self):\n",
    "        area_rectangle = (self.length)*(self.width)\n",
    "        print(\"the Area of the rectangle is\",area_rectangle)\n",
    "    \n",
    "    def peri_rect(self):\n",
    "        peri_rectangle = 2 * (self.length)+(self.width)\n",
    "        print(\"the perimeter of the rectangle\",peri_rectangle)\n",
    "\n",
    "t = Rectangle(length,width)\n",
    "t.area_rect()\n",
    "t.peri_rect()"
   ]
  },
  {
   "cell_type": "markdown",
   "metadata": {},
   "source": [
    "2. Create a class called Circle with attribute radius. Implement methods to calculate the area and circumference of the circle.\n",
    "\n"
   ]
  },
  {
   "cell_type": "code",
   "execution_count": 7,
   "metadata": {},
   "outputs": [
    {
     "name": "stdout",
     "output_type": "stream",
     "text": [
      "The area of circle is 1256.0\n",
      "The Circumference of circle is 125.60000000000001\n"
     ]
    }
   ],
   "source": [
    "radius=int(input(\"Enter the radius of the circle\"))\n",
    "\n",
    "class Circle:\n",
    "    pi=3.14\n",
    "    def __init__(self,radius):\n",
    "        self.radius=radius\n",
    "    \n",
    "    def area_circle(self):\n",
    "        area = Circle.pi * self.radius * self.radius\n",
    "        print(\"The area of circle is\",area)\n",
    "\n",
    "    def circumference_circle(self):\n",
    "        circumference = 2 * Circle.pi * (self.radius)\n",
    "        print(\"The Circumference of circle is\",circumference)\n",
    "\n",
    "a=Circle(radius)\n",
    "a.area_circle()\n",
    "a.circumference_circle()"
   ]
  },
  {
   "cell_type": "markdown",
   "metadata": {},
   "source": [
    "3. Create a class called Employee with attributes name, age, and salary. Implement a method called increase_salary that takes a percentage increase as input and updates the employee's salary accordingly.\n"
   ]
  },
  {
   "cell_type": "code",
   "execution_count": 21,
   "metadata": {},
   "outputs": [
    {
     "name": "stdout",
     "output_type": "stream",
     "text": [
      "Emp Name: Anif A J  \n",
      "Emp Age: 23 \n",
      "Emp old salary: 2000 \n",
      "Emp increment Salary: 2400.0\n"
     ]
    }
   ],
   "source": [
    "name=str(input(\"Enter employee name\"))\n",
    "age=int(input(\"\\nEnter employee age\"))\n",
    "salary=int(input(\"\\nEnter employee salary\"))\n",
    "percentage = int(input(\"\\nEnter the employee increment percentage\"))\n",
    "\n",
    "class Employee:\n",
    "    def __init__(self,name,age,salary):\n",
    "        self.name   = name\n",
    "        self.age    = age\n",
    "        self.salary = salary\n",
    "\n",
    "    def increment(self):\n",
    "        increment_salary = self.salary * (percentage/100)\n",
    "        new_salary=self.salary+increment_salary\n",
    "        print(\"Emp Name:\",self.name,\"\\nEmp Age:\",self.age,\"\\nEmp old salary:\",self.salary,\"\\nEmp increment Salary:\",new_salary)\n",
    "\n",
    "s = Employee(name,age,salary)\n",
    "s.increment()"
   ]
  },
  {
   "cell_type": "markdown",
   "metadata": {},
   "source": [
    "4. Create a class called BankAccount with attributes account_number, holder_name, and balance. Implement methods to deposit and withdraw funds from the account."
   ]
  },
  {
   "cell_type": "code",
   "execution_count": 41,
   "metadata": {},
   "outputs": [
    {
     "name": "stdout",
     "output_type": "stream",
     "text": [
      "\n",
      "Acc num: 123456789 \n",
      "Acc Holder Anif A J \n",
      "Balance 200000\n",
      "\n",
      "Deposit amount 2000\n",
      "new Balance after deposit: 202000\n",
      "\n",
      "Withdraw Amount 20000\n",
      "New Balance After withdraw: 182000\n"
     ]
    }
   ],
   "source": [
    "account_num   = int(input(\"Enter a acc num\"))\n",
    "holder_nam    = str(input(\"Enter acc holder name\"))\n",
    "balance       = int(input(\"Enter a bank balance\"))\n",
    "deposit_cash  = int(input(\"Enter a amount to be deposit\"))\n",
    "withdraw_cash = int(input(\"Enter the amount to be withdraw \"))\n",
    "\n",
    "class BankAccount:\n",
    "    def __init__(self,account_number,holder_name,balance):\n",
    "        self.account_number = account_number\n",
    "        self.holder_name    = holder_name\n",
    "        self.balance        = balance\n",
    "        print(\"\\nAcc num:\",self.account_number,\"\\nAcc Holder\",self.holder_name,\"\\nBalance\",self.balance)\n",
    "    \n",
    "    def deposit(self):\n",
    "        self.dep = self.balance + deposit_cash\n",
    "        print (\"\\nDeposit amount\",deposit_cash)\n",
    "        print(\"new Balance after deposit:\",self.dep)\n",
    "\n",
    "    def withdraw(self):\n",
    "        wi  = self.dep - withdraw_cash\n",
    "        print (\"\\nWithdraw Amount\",withdraw_cash)\n",
    "        print(\"New Balance After withdraw:\",wi)\n",
    "\n",
    "a=BankAccount(account_num,holder_nam,balance)\n",
    "a.deposit()\n",
    "a.withdraw()"
   ]
  },
  {
   "cell_type": "markdown",
   "metadata": {},
   "source": [
    "5. Create a class called Car with attributes  model, and year. Implement a method called start_engine that prints a message indicating the car has started."
   ]
  },
  {
   "cell_type": "code",
   "execution_count": 50,
   "metadata": {},
   "outputs": [
    {
     "name": "stdout",
     "output_type": "stream",
     "text": [
      "This is my car BMW and invented in 2020\n",
      "Invalid command to start your car, and your car not started\n"
     ]
    }
   ],
   "source": [
    "model = str(input(\"enter the car model\"))\n",
    "year  = int(input(\"enter the car invented year\"))\n",
    "a     = str(input(\"Command to start the car\"))\n",
    "\n",
    "class Car:\n",
    "    def __init__(self,model,year):\n",
    "        self.model = model\n",
    "        self.year  = year\n",
    "        print(\"This is my car\",self.model,\"and invented in\",self.year\".\")\n",
    "        \n",
    "        if a == \"start\":\n",
    "            print(\"car has started\")\n",
    "        else:\n",
    "            print(\"Invalid command to start your car, and your car not started\")\n",
    "\n",
    "a=Car(model,year)"
   ]
  },
  {
   "cell_type": "markdown",
   "metadata": {},
   "source": [
    "6. Create a class called Student with attributes name, age, and grades (a list of integers). Implement methods to calculate the average grade and determine if the student has passed (average grade >= 60).\n",
    "\n",
    "\n",
    "\n"
   ]
  },
  {
   "cell_type": "code",
   "execution_count": null,
   "metadata": {},
   "outputs": [],
   "source": []
  }
 ],
 "metadata": {
  "kernelspec": {
   "display_name": "Python 3",
   "language": "python",
   "name": "python3"
  },
  "language_info": {
   "codemirror_mode": {
    "name": "ipython",
    "version": 3
   },
   "file_extension": ".py",
   "mimetype": "text/x-python",
   "name": "python",
   "nbconvert_exporter": "python",
   "pygments_lexer": "ipython3",
   "version": "3.12.4"
  }
 },
 "nbformat": 4,
 "nbformat_minor": 2
}
