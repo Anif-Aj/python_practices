{
 "cells": [
  {
   "cell_type": "markdown",
   "metadata": {},
   "source": [
    "Create a class called Rectangle with attributes length and width. Implement methods to calculate the area and perimeter of the rectangle.\n",
    "---"
   ]
  },
  {
   "cell_type": "code",
   "execution_count": 10,
   "metadata": {},
   "outputs": [
    {
     "name": "stdout",
     "output_type": "stream",
     "text": [
      "the Area of the rectangle is 100\n",
      "the perimeter of the rectangle 30\n"
     ]
    }
   ],
   "source": [
    "length = int(input(\"enter the length of the rectangle\"))\n",
    "width = int(input(\"enter the width of the rectangle\"))\n",
    "\n",
    "class Rectangle:\n",
    "    def __init__(self,length,width):\n",
    "        self.length = length\n",
    "        self.width = width\n",
    "    \n",
    "    def area_rect(self):\n",
    "        area_rectangle = (self.length)*(self.width)\n",
    "        print(\"the Area of the rectangle is\",area_rectangle)\n",
    "    \n",
    "    def peri_rect(self):\n",
    "        peri_rectangle = 2 * (self.length)+(self.width)\n",
    "        print(\"the perimeter of the rectangle\",peri_rectangle)\n",
    "\n",
    "t = Rectangle(length,width)\n",
    "t.area_rect()\n",
    "t.peri_rect()"
   ]
  },
  {
   "cell_type": "markdown",
   "metadata": {},
   "source": [
    "Create a class called Circle with attribute radius. Implement methods to calculate the area and circumference of the circle.\n",
    "---\n"
   ]
  },
  {
   "cell_type": "code",
   "execution_count": 17,
   "metadata": {},
   "outputs": [
    {
     "name": "stdout",
     "output_type": "stream",
     "text": [
      "The area of circle is 706.5\n",
      "The Circumference of circle is 94.2\n"
     ]
    }
   ],
   "source": [
    "radius=int(input(\"Enter the radius of the circle\"))\n",
    "\n",
    "class Circle:\n",
    "    pi=3.14\n",
    "    def __init__(self,radius):\n",
    "        self.radius=radius\n",
    "    def area_circle(self):\n",
    "        area = Circle.pi * self.radius * self.radius\n",
    "        print(\"The area of circle is\",area)\n",
    "    def circumference_circle(self):\n",
    "        circumference = 2 * Circle.pi * (self.radius)\n",
    "        print(\"The Circumference of circle is\",circumference)\n",
    "\n",
    "a=Circle(radius)\n",
    "a.area_circle()\n",
    "a.circumference_circle()"
   ]
  },
  {
   "cell_type": "markdown",
   "metadata": {},
   "source": [
    "Create a class called Employee with attributes name, age, and salary. Implement a method called increase_salary that takes a percentage increase as input and updates the employee's salary accordingly.\n",
    "---"
   ]
  },
  {
   "cell_type": "code",
   "execution_count": null,
   "metadata": {},
   "outputs": [],
   "source": []
  }
 ],
 "metadata": {
  "kernelspec": {
   "display_name": "Python 3",
   "language": "python",
   "name": "python3"
  },
  "language_info": {
   "codemirror_mode": {
    "name": "ipython",
    "version": 3
   },
   "file_extension": ".py",
   "mimetype": "text/x-python",
   "name": "python",
   "nbconvert_exporter": "python",
   "pygments_lexer": "ipython3",
   "version": "3.12.4"
  }
 },
 "nbformat": 4,
 "nbformat_minor": 2
}
